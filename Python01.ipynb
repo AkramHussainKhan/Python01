{
  "nbformat": 4,
  "nbformat_minor": 0,
  "metadata": {
    "colab": {
      "provenance": [],
      "include_colab_link": true
    },
    "kernelspec": {
      "name": "python3",
      "display_name": "Python 3"
    },
    "language_info": {
      "name": "python"
    }
  },
  "cells": [
    {
      "cell_type": "markdown",
      "metadata": {
        "id": "view-in-github",
        "colab_type": "text"
      },
      "source": [
        "<a href=\"https://colab.research.google.com/github/AkramHussainKhan/Python01/blob/main/Python01.ipynb\" target=\"_parent\"><img src=\"https://colab.research.google.com/assets/colab-badge.svg\" alt=\"Open In Colab\"/></a>"
      ]
    },
    {
      "cell_type": "markdown",
      "source": [
        "# Basic Python"
      ],
      "metadata": {
        "id": "Nt469AmbbVlI"
      }
    },
    {
      "cell_type": "markdown",
      "source": [
        "## Some concepts and examples\n",
        "▶ **syntax highlighting:**\n",
        "\n",
        "As we write our programs such as `print(\"Hello World\")`,our editor highlights different parts of our program in different ways. For example, it recognizes that print is the name of a function and displays that word in orange in colab. It recognizes that “Hello World” is not Python code and displays that phrase in red.\n"
      ],
      "metadata": {
        "id": "kwSYpJlJVz4r"
      }
    },
    {
      "cell_type": "code",
      "execution_count": null,
      "metadata": {
        "colab": {
          "base_uri": "https://localhost:8080/"
        },
        "id": "hSBKCzCfVq2r",
        "outputId": "68e92e29-1887-412b-b4ac-9106a20a75d2"
      },
      "outputs": [
        {
          "output_type": "stream",
          "name": "stdout",
          "text": [
            "Hello World\n"
          ]
        }
      ],
      "source": [
        "print(\"Hello World\")"
      ]
    },
    {
      "cell_type": "markdown",
      "source": [
        "▶ **Varaible:**\n",
        "\n",
        "Every variable holds a value, which\n",
        "is the information associated with that variable."
      ],
      "metadata": {
        "id": "xmYL18BpWvXJ"
      }
    },
    {
      "cell_type": "code",
      "source": [
        "message = \"Hello World\"\n",
        "print(message)"
      ],
      "metadata": {
        "colab": {
          "base_uri": "https://localhost:8080/"
        },
        "id": "W2Mo7bUuXx9x",
        "outputId": "5fb4f0c3-8712-4a04-d320-0d7c9647aeba"
      },
      "execution_count": null,
      "outputs": [
        {
          "output_type": "stream",
          "name": "stdout",
          "text": [
            "Hello World\n"
          ]
        }
      ]
    },
    {
      "cell_type": "markdown",
      "source": [
        "When we are using variables in Python, we need to adhere to a few rules and guidelines. Such as:\n",
        "\n",
        "* Variable names can contain only letters, numbers, and underscores.\n",
        "They can start with a letter or an underscore, but not with a number.\n",
        "\n",
        "* Spaces are not allowed in variable names, but underscores can be used\n",
        "\n",
        "* Avoid using Python keywords and function names as variable names;\n",
        "\n",
        "* Variable names should be short but descriptive.\n",
        "etc"
      ],
      "metadata": {
        "id": "ebEQDYu5YAsA"
      }
    },
    {
      "cell_type": "markdown",
      "source": [
        "▶ **traceback**\n",
        "\n",
        "A traceback is a record\n",
        "of where the interpreter ran into trouble when trying to execute our code."
      ],
      "metadata": {
        "id": "KMldyz7UY2fy"
      }
    },
    {
      "cell_type": "code",
      "source": [
        "message = \"Hello Python\"\n",
        "print(mesage)"
      ],
      "metadata": {
        "colab": {
          "base_uri": "https://localhost:8080/",
          "height": 192
        },
        "id": "BzMNAlYQY0X5",
        "outputId": "25a1d44f-98dc-4bc6-813b-635da0e6330e"
      },
      "execution_count": null,
      "outputs": [
        {
          "output_type": "error",
          "ename": "NameError",
          "evalue": "ignored",
          "traceback": [
            "\u001b[0;31m---------------------------------------------------------------------------\u001b[0m",
            "\u001b[0;31mNameError\u001b[0m                                 Traceback (most recent call last)",
            "\u001b[0;32m<ipython-input-1-aeeb06b53308>\u001b[0m in \u001b[0;36m<cell line: 2>\u001b[0;34m()\u001b[0m\n\u001b[1;32m      1\u001b[0m \u001b[0mmessage\u001b[0m \u001b[0;34m=\u001b[0m \u001b[0;34m\"Hello Python\"\u001b[0m\u001b[0;34m\u001b[0m\u001b[0;34m\u001b[0m\u001b[0m\n\u001b[0;32m----> 2\u001b[0;31m \u001b[0mprint\u001b[0m\u001b[0;34m(\u001b[0m\u001b[0mmesage\u001b[0m\u001b[0;34m)\u001b[0m\u001b[0;34m\u001b[0m\u001b[0;34m\u001b[0m\u001b[0m\n\u001b[0m",
            "\u001b[0;31mNameError\u001b[0m: name 'mesage' is not defined"
          ]
        }
      ]
    },
    {
      "cell_type": "markdown",
      "source": [
        "## **Different types of data**\n",
        "\n",
        "\n",
        "*   Strings\n",
        "*   Numbers\n",
        "\n",
        "\n"
      ],
      "metadata": {
        "id": "J0B5uhe9aNov"
      }
    },
    {
      "cell_type": "markdown",
      "source": [
        "### ▶ **strings**\n",
        "\n",
        "A string is simply a series of characters. Anything inside quotes is con-\n",
        "sidered a string in Python, and we can use single or double quotes around our strings."
      ],
      "metadata": {
        "id": "xzL1RzdMZ5Jv"
      }
    },
    {
      "cell_type": "code",
      "source": [
        "\"This is a string.\"\n",
        "'This is also a string.'"
      ],
      "metadata": {
        "colab": {
          "base_uri": "https://localhost:8080/",
          "height": 36
        },
        "id": "Ae69n_SbaJQA",
        "outputId": "8f2c9835-8407-4bb4-d92b-755403717ff4"
      },
      "execution_count": null,
      "outputs": [
        {
          "output_type": "execute_result",
          "data": {
            "text/plain": [
              "'This is also a string.'"
            ],
            "application/vnd.google.colaboratory.intrinsic+json": {
              "type": "string"
            }
          },
          "metadata": {},
          "execution_count": 15
        }
      ]
    },
    {
      "cell_type": "markdown",
      "source": [
        "▶ **method**\n",
        "\n",
        "A method is an action that Python can perform on a piece of data. Every method is followed by a set of parentheses, because methods often need additional information to do their work. That information is provided inside the parentheses.\n"
      ],
      "metadata": {
        "id": "E5Xx1JTraMo3"
      }
    },
    {
      "cell_type": "code",
      "source": [
        "name = \"Hello world\"\n",
        "print(name.title())\n",
        "print(name.upper())\n",
        "print(name.lower())"
      ],
      "metadata": {
        "colab": {
          "base_uri": "https://localhost:8080/"
        },
        "id": "AcCvm-VEa_A_",
        "outputId": "14ad9550-d4b3-4850-c7f1-662b3b211f80"
      },
      "execution_count": null,
      "outputs": [
        {
          "output_type": "stream",
          "name": "stdout",
          "text": [
            "Hello World\n",
            "HELLO WORLD\n",
            "hello world\n"
          ]
        }
      ]
    },
    {
      "cell_type": "markdown",
      "source": [
        "Here, `title , upper , lower` are actually methods that applied on `name` vraiable.\n",
        "\n"
      ],
      "metadata": {
        "id": "Qnr0tJR6ZN9R"
      }
    },
    {
      "cell_type": "markdown",
      "source": [
        "▶ **concatenation**\n",
        "\n",
        "This method of combining strings is called concatenation.Python uses the plus symbol (+) to combine strings."
      ],
      "metadata": {
        "id": "Dc11vj4HbvWM"
      }
    },
    {
      "cell_type": "code",
      "source": [
        "first_ = \"Hello\"\n",
        "last_= \"World\"\n",
        "full_ = first_ + \" \" + last_\n",
        "print(full_)"
      ],
      "metadata": {
        "colab": {
          "base_uri": "https://localhost:8080/"
        },
        "id": "a-G9_mDCbR7H",
        "outputId": "a652e7c6-dacb-4df4-859c-57423931298f"
      },
      "execution_count": null,
      "outputs": [
        {
          "output_type": "stream",
          "name": "stdout",
          "text": [
            "Hello World\n"
          ]
        }
      ]
    },
    {
      "cell_type": "code",
      "source": [
        "name = \"Eric\"\n",
        "print(\"Hello\" + name + \", \" + \"How are you?\")"
      ],
      "metadata": {
        "colab": {
          "base_uri": "https://localhost:8080/"
        },
        "id": "244nHSL6_DMq",
        "outputId": "eddb0125-16ee-42ad-8f56-b61951a03524"
      },
      "execution_count": null,
      "outputs": [
        {
          "output_type": "stream",
          "name": "stdout",
          "text": [
            "HelloEric, How are you?\n"
          ]
        }
      ]
    },
    {
      "cell_type": "markdown",
      "source": [
        "▶ **whitespace:**\n",
        "\n",
        "In programming, whitespace refers to any nonprinting character, such as\n",
        "spaces, tabs, and end-of-line symbols.\n",
        "\n"
      ],
      "metadata": {
        "id": "wVoPNF4-cJ2m"
      }
    },
    {
      "cell_type": "code",
      "source": [
        "print(\"Python\")\n",
        "print(\"\\tPython\")\n",
        "print(\"In newline:\\nPython\")\n",
        "print(\"In newline with tab:\\n\\tPython\")"
      ],
      "metadata": {
        "colab": {
          "base_uri": "https://localhost:8080/"
        },
        "id": "f3yvF6IQ8s-5",
        "outputId": "414b31cb-dc2b-4cd8-c98b-d4fb502e4265"
      },
      "execution_count": null,
      "outputs": [
        {
          "output_type": "stream",
          "name": "stdout",
          "text": [
            "Python\n",
            "\tPython\n",
            "In newline:\n",
            "Python\n",
            "In newline with tab:\n",
            "\tPython\n"
          ]
        }
      ]
    },
    {
      "cell_type": "markdown",
      "source": [
        "▶ **Stripping Whitespace:**\n",
        "\n",
        "Extra whitespace can be confusing in much simpler\n",
        "situation. Fortunately, Python makes it easy to eliminate extraneous\n",
        "whitespace from data that people enter"
      ],
      "metadata": {
        "id": "_Spi0j5885Ka"
      }
    },
    {
      "cell_type": "code",
      "source": [
        "fruit = '  apple   '\n",
        "print(fruit)\n",
        "print(fruit.rstrip())\n",
        "print(fruit.lstrip())\n",
        "print(fruit.strip())\n"
      ],
      "metadata": {
        "colab": {
          "base_uri": "https://localhost:8080/"
        },
        "id": "O1bbb-Ee9b1y",
        "outputId": "978d811a-3e4f-4643-b24b-9f3a043805cc"
      },
      "execution_count": null,
      "outputs": [
        {
          "output_type": "stream",
          "name": "stdout",
          "text": [
            "  apple   \n",
            "  apple\n",
            "apple   \n",
            "apple\n"
          ]
        }
      ]
    },
    {
      "cell_type": "markdown",
      "source": [
        "For visualizaing we can use a different example."
      ],
      "metadata": {
        "id": "qK2y4MuU-RYZ"
      }
    },
    {
      "cell_type": "code",
      "source": [
        "fruit = '**apple***'\n",
        "print(fruit)\n",
        "print(fruit.rstrip('*'))\n",
        "print(fruit.lstrip('*'))\n",
        "print(fruit.strip('*'))\n"
      ],
      "metadata": {
        "colab": {
          "base_uri": "https://localhost:8080/"
        },
        "id": "mD9lwxP4-WLt",
        "outputId": "5a1dfb7b-5c55-4220-d8e3-69257b1bde45"
      },
      "execution_count": null,
      "outputs": [
        {
          "output_type": "stream",
          "name": "stdout",
          "text": [
            "**apple***\n",
            "**apple\n",
            "apple***\n",
            "apple\n"
          ]
        }
      ]
    },
    {
      "cell_type": "markdown",
      "source": [
        "### ▶ **Numbers**\n",
        "\n",
        "Python treats numbers in several different ways, depending on how they\n",
        "are being used.\n",
        "\n",
        "* integer\n",
        "* float\n"
      ],
      "metadata": {
        "id": "mpxoHrhX-gb5"
      }
    },
    {
      "cell_type": "code",
      "source": [
        "#Doing basic math with integers\n",
        "print(5+3) #sum\n",
        "print(13-5) #subtract\n",
        "print(2*4) #multiply\n",
        "print(48/6) # divide\n",
        "print(3**2) # exponential\n",
        "print(2 + 3*2) # order of excecution"
      ],
      "metadata": {
        "colab": {
          "base_uri": "https://localhost:8080/"
        },
        "id": "BrIEmIgVZpht",
        "outputId": "43c78eb9-3fda-4e1d-e123-219fa1957a2f"
      },
      "execution_count": null,
      "outputs": [
        {
          "output_type": "stream",
          "name": "stdout",
          "text": [
            "8\n",
            "8\n",
            "8\n",
            "8.0\n",
            "9\n",
            "8\n"
          ]
        }
      ]
    },
    {
      "cell_type": "markdown",
      "source": [
        "Python calls any number with a decimal point a float."
      ],
      "metadata": {
        "id": "_h0RBPpaaTWR"
      }
    },
    {
      "cell_type": "code",
      "source": [
        "print(0.2 + 0.3)"
      ],
      "metadata": {
        "colab": {
          "base_uri": "https://localhost:8080/"
        },
        "id": "Scx2xeb7aTI0",
        "outputId": "9a206276-f4b6-4914-c08e-f6bc0d586adc"
      },
      "execution_count": null,
      "outputs": [
        {
          "output_type": "stream",
          "name": "stdout",
          "text": [
            "0.5\n"
          ]
        }
      ]
    },
    {
      "cell_type": "code",
      "source": [
        "age = 26\n",
        "print(\"My age is\" + age) #It will give an error"
      ],
      "metadata": {
        "colab": {
          "base_uri": "https://localhost:8080/",
          "height": 192
        },
        "id": "Mtzy6p2rZ7-q",
        "outputId": "9680d34c-88d5-4c49-8897-6d1dcc9f1cff"
      },
      "execution_count": null,
      "outputs": [
        {
          "output_type": "error",
          "ename": "TypeError",
          "evalue": "ignored",
          "traceback": [
            "\u001b[0;31m---------------------------------------------------------------------------\u001b[0m",
            "\u001b[0;31mTypeError\u001b[0m                                 Traceback (most recent call last)",
            "\u001b[0;32m<ipython-input-5-c404fb76699f>\u001b[0m in \u001b[0;36m<cell line: 2>\u001b[0;34m()\u001b[0m\n\u001b[1;32m      1\u001b[0m \u001b[0mage\u001b[0m \u001b[0;34m=\u001b[0m \u001b[0;36m26\u001b[0m\u001b[0;34m\u001b[0m\u001b[0;34m\u001b[0m\u001b[0m\n\u001b[0;32m----> 2\u001b[0;31m \u001b[0mprint\u001b[0m\u001b[0;34m(\u001b[0m\u001b[0;34m\"My age is\"\u001b[0m \u001b[0;34m+\u001b[0m \u001b[0mage\u001b[0m\u001b[0;34m)\u001b[0m\u001b[0;34m\u001b[0m\u001b[0;34m\u001b[0m\u001b[0m\n\u001b[0m",
            "\u001b[0;31mTypeError\u001b[0m: can only concatenate str (not \"int\") to str"
          ]
        }
      ]
    },
    {
      "cell_type": "code",
      "source": [
        "age = 26\n",
        "print(\"My age is \" + str(age))"
      ],
      "metadata": {
        "colab": {
          "base_uri": "https://localhost:8080/"
        },
        "id": "npRksTcZa4X6",
        "outputId": "5d6697cc-6eb3-45ba-c9c7-368e02346483"
      },
      "execution_count": null,
      "outputs": [
        {
          "output_type": "stream",
          "name": "stdout",
          "text": [
            "My age is 26\n"
          ]
        }
      ]
    },
    {
      "cell_type": "markdown",
      "source": [
        "## **The zen of python**"
      ],
      "metadata": {
        "id": "JKmszrtmbp4h"
      }
    },
    {
      "cell_type": "code",
      "source": [
        "import this"
      ],
      "metadata": {
        "colab": {
          "base_uri": "https://localhost:8080/"
        },
        "id": "JqJ2k0LLbmih",
        "outputId": "4063f562-0637-47e5-ef70-8a2395afa53b"
      },
      "execution_count": null,
      "outputs": [
        {
          "output_type": "stream",
          "name": "stdout",
          "text": [
            "The Zen of Python, by Tim Peters\n",
            "\n",
            "Beautiful is better than ugly.\n",
            "Explicit is better than implicit.\n",
            "Simple is better than complex.\n",
            "Complex is better than complicated.\n",
            "Flat is better than nested.\n",
            "Sparse is better than dense.\n",
            "Readability counts.\n",
            "Special cases aren't special enough to break the rules.\n",
            "Although practicality beats purity.\n",
            "Errors should never pass silently.\n",
            "Unless explicitly silenced.\n",
            "In the face of ambiguity, refuse the temptation to guess.\n",
            "There should be one-- and preferably only one --obvious way to do it.\n",
            "Although that way may not be obvious at first unless you're Dutch.\n",
            "Now is better than never.\n",
            "Although never is often better than *right* now.\n",
            "If the implementation is hard to explain, it's a bad idea.\n",
            "If the implementation is easy to explain, it may be a good idea.\n",
            "Namespaces are one honking great idea -- let's do more of those!\n"
          ]
        }
      ]
    },
    {
      "cell_type": "markdown",
      "source": [
        "## Summary ✅:\n",
        "So Here we learn Some basic things of python and working with strings, number such as integer and float.\n",
        "All these lessons are taken from\n",
        "\n",
        "\n",
        "> \"PYTHON CRASH COURSE\"\n",
        "> A HANDS-ON, PROJECT- BASED\n",
        "INTRODUCTION TO PROGRAMMING\n"
      ],
      "metadata": {
        "id": "-TJWy_6H8m2y"
      }
    }
  ]
}